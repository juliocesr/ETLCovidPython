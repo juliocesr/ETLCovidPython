{
 "cells": [
  {
   "metadata": {},
   "cell_type": "markdown",
   "source": [
    "# This is a sample Jupyter Notebook\n",
    "\n",
    "Below is an example of a code cell. \n",
    "Put your cursor into the cell and press Shift+Enter to execute it and select the next one, or click 'Run Cell' button.\n",
    "\n",
    "Press Double Shift to search everywhere for classes, files, tool windows, actions, and settings.\n",
    "\n",
    "To learn more about Jupyter Notebooks in PyCharm, see [help](https://www.jetbrains.com/help/pycharm/ipython-notebook-support.html).\n",
    "For an overview of PyCharm, go to Help -> Learn IDE features or refer to [our documentation](https://www.jetbrains.com/help/pycharm/getting-started.html)."
   ],
   "id": "8a77807f92f26ee"
  },
  {
   "metadata": {
    "ExecuteTime": {
     "end_time": "2025-05-28T19:19:54.629567Z",
     "start_time": "2025-05-28T19:19:52.914547Z"
    }
   },
   "cell_type": "code",
   "source": [
    "import pandas as pd\n",
    "import requests\n",
    "from io import StringIO"
   ],
   "id": "d96248d1257d2193",
   "outputs": [],
   "execution_count": 3
  },
  {
   "metadata": {
    "ExecuteTime": {
     "end_time": "2025-05-28T19:20:07.473375Z",
     "start_time": "2025-05-28T19:19:56.384025Z"
    }
   },
   "cell_type": "code",
   "source": [
    "# === Extract ===\n",
    "url = \"https://covid.ourworldindata.org/data/owid-covid-data.csv\"\n",
    "response = requests.get(url)\n",
    "\n",
    "if response.status_code == 200:\n",
    "    csv_data = StringIO(response.text)\n",
    "    print(\"✅ Dados extraídos com sucesso!\")\n",
    "else:\n",
    "    raise Exception(\"Erro ao baixar os dados\")"
   ],
   "id": "cdad061451982aa2",
   "outputs": [
    {
     "name": "stdout",
     "output_type": "stream",
     "text": [
      "✅ Dados extraídos com sucesso!\n"
     ]
    }
   ],
   "execution_count": 4
  },
  {
   "metadata": {
    "ExecuteTime": {
     "end_time": "2025-05-28T19:20:21.027472Z",
     "start_time": "2025-05-28T19:20:18.103077Z"
    }
   },
   "cell_type": "code",
   "source": [
    "# === Transform  ===\n",
    "df = pd.read_csv(csv_data)\n",
    "\n",
    "df_brasil = df[df['location'] == 'Brazil'][['date', 'new_cases', 'new_deaths']]\n",
    "\n",
    "df_brasil['date'] = pd.to_datetime(df_brasil['date'])\n",
    "\n",
    "df_brasil.fillna(0, inplace=True)\n",
    "\n",
    "print(\"✅ Dados transformados com sucesso!\")"
   ],
   "id": "d17dd1590784b153",
   "outputs": [
    {
     "name": "stdout",
     "output_type": "stream",
     "text": [
      "✅ Dados transformados com sucesso!\n"
     ]
    }
   ],
   "execution_count": 5
  },
  {
   "metadata": {
    "ExecuteTime": {
     "end_time": "2025-05-28T19:20:27.162481Z",
     "start_time": "2025-05-28T19:20:27.132801Z"
    }
   },
   "cell_type": "code",
   "source": [
    "# === Load ===\n",
    "\n",
    "df_brasil.to_csv(\"covid_brasil.csv\", index=False)\n",
    "print(\"✅ Dados carregados e salvos como 'covid_brasil.csv'\")"
   ],
   "id": "244f580d766d6ea4",
   "outputs": [
    {
     "name": "stdout",
     "output_type": "stream",
     "text": [
      "✅ Dados carregados e salvos como 'covid_brasil.csv'\n"
     ]
    }
   ],
   "execution_count": 6
  },
  {
   "metadata": {},
   "cell_type": "code",
   "outputs": [],
   "execution_count": null,
   "source": "",
   "id": "94573b224d85660f"
  }
 ],
 "metadata": {
  "kernelspec": {
   "display_name": "Python 3",
   "language": "python",
   "name": "python3"
  },
  "language_info": {
   "codemirror_mode": {
    "name": "ipython",
    "version": 2
   },
   "file_extension": ".py",
   "mimetype": "text/x-python",
   "name": "python",
   "nbconvert_exporter": "python",
   "pygments_lexer": "ipython2",
   "version": "2.7.6"
  }
 },
 "nbformat": 4,
 "nbformat_minor": 5
}
